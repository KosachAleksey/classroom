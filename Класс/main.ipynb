{
 "cells": [
  {
   "cell_type": "markdown",
   "metadata": {},
   "source": [
    "Работа с файлами"
   ]
  },
  {
   "cell_type": "code",
   "execution_count": 2,
   "metadata": {},
   "outputs": [],
   "source": [
    "with open(\"academy.txt\", \"a\") as myfile:\n",
    "    print(\"Файл записан\", file=myfile)"
   ]
  },
  {
   "cell_type": "code",
   "execution_count": 5,
   "metadata": {},
   "outputs": [
    {
     "name": "stdout",
     "output_type": "stream",
     "text": [
      "Mercedes-Banz E220\n",
      " BMW 5\n",
      " BMW 5 \n",
      " BMW 6 \n",
      " BMW 7\n",
      " Хонда\n",
      " БМВ\n",
      " Ява"
     ]
    }
   ],
   "source": [
    "with open(\"myCarShop.txt\", \"r\") as file:\n",
    "    for line in file:\n",
    "        print(line, end = \"\")"
   ]
  },
  {
   "cell_type": "code",
   "execution_count": 6,
   "metadata": {},
   "outputs": [
    {
     "name": "stdout",
     "output_type": "stream",
     "text": [
      "Mercedes-Banz E220\n",
      " BMW 5\n"
     ]
    }
   ],
   "source": [
    "with open(\"myCarShop.txt\", \"r\") as file:\n",
    "    str1 = file.readline()\n",
    "    print(str1, end = \"\")\n",
    "    str2 = file.readline()\n",
    "    print(str2, end = \"\")\n"
   ]
  },
  {
   "cell_type": "code",
   "execution_count": 7,
   "metadata": {},
   "outputs": [
    {
     "name": "stdout",
     "output_type": "stream",
     "text": [
      "Mercedes-Banz E220\n",
      " BMW 5\n",
      " BMW 5 \n",
      " BMW 6 \n",
      " BMW 7\n",
      " Хонда\n",
      " БМВ\n",
      " Ява"
     ]
    }
   ],
   "source": [
    "with open(\"myCarShop.txt\", \"r\") as file:\n",
    "    line = file.readline()\n",
    "    while line:\n",
    "        print(line, end = \"\")\n",
    "        line = file.readline()"
   ]
  },
  {
   "cell_type": "code",
   "execution_count": 8,
   "metadata": {},
   "outputs": [
    {
     "name": "stdout",
     "output_type": "stream",
     "text": [
      "Mercedes-Banz E220\n",
      " BMW 5\n",
      " BMW 5 \n",
      " BMW 6 \n",
      " BMW 7\n",
      " Хонда\n",
      " БМВ\n",
      " Ява\n"
     ]
    }
   ],
   "source": [
    "with open(\"myCarShop.txt\", \"r\") as file:\n",
    "    content = file.read()\n",
    "    print(content)"
   ]
  },
  {
   "cell_type": "code",
   "execution_count": 13,
   "metadata": {},
   "outputs": [
    {
     "name": "stdout",
     "output_type": "stream",
     "text": [
      "Mercedes-Banz E220\n",
      " BMW 5\n"
     ]
    }
   ],
   "source": [
    "with open(\"myCarShop.txt\", \"r\") as file:\n",
    "    content = file.readlines()\n",
    "    str1 = content[0]\n",
    "    str2 = content[1]\n",
    "    print(str1, end = \"\")\n",
    "    print(str2, end = \"\")"
   ]
  },
  {
   "cell_type": "markdown",
   "metadata": {},
   "source": [
    "Метод seek файл перезаписывается, а не дописывается/ file.seek(0) - переход по символам (начинается с выбранного символа (цифра в скобка))"
   ]
  },
  {
   "cell_type": "code",
   "execution_count": 17,
   "metadata": {},
   "outputs": [
    {
     "name": "stdout",
     "output_type": "stream",
     "text": [
      "Hello World. Yes!\n"
     ]
    }
   ],
   "source": [
    "with open(\"hello.txt\", \"w+\") as file:\n",
    "    file.write(\"Hello World. Yes!\")\n",
    "    file.seek(0)\n",
    "    content = file.read()\n",
    "    print(content)\n",
    "    "
   ]
  },
  {
   "cell_type": "code",
   "execution_count": 19,
   "metadata": {},
   "outputs": [
    {
     "name": "stdout",
     "output_type": "stream",
     "text": [
      "1\n",
      "\n",
      "Пока :3\n"
     ]
    }
   ],
   "source": [
    "filename = \"messages.txt\"\n",
    "def write():\n",
    "    messages = input(\"введите строку\")\n",
    "    with open(filename, \"a\") as file:\n",
    "        file.write (messages + \"\\n\")\n",
    "\n",
    "def read():\n",
    "    with open(filename, \"r\") as file:\n",
    "        for messages in file:\n",
    "            print(messages, end =\"\")\n",
    "    print()\n",
    "\n",
    "while(True):\n",
    "    selection = int(input(\"1. Запись в файл \\n. 2. Четение файла\\n. 3 Выход \\nВыверете действие.\"))\n",
    "    match selection:\n",
    "        case 1: write()\n",
    "        case 2: read()\n",
    "        case 3: break\n",
    "        case _: print(\"Некорректный ввод\")\n",
    "print(\"Пока :3\")\n",
    "\n",
    "\n",
    "       \n"
   ]
  },
  {
   "cell_type": "markdown",
   "metadata": {},
   "source": [
    "Двухмерный список"
   ]
  },
  {
   "cell_type": "code",
   "execution_count": 29,
   "metadata": {},
   "outputs": [],
   "source": [
    "import csv\n",
    "\n",
    "FILENAME = \"users.csv\"\n",
    "\n",
    "users = [\n",
    "    [\"Tom\", 28],\n",
    "    [\"Alice\", 23],\n",
    "    [\"Bob\", 34]\n",
    "]\n",
    "\n",
    "with open(FILENAME, \"w\", newline =\"\") as file:\n",
    "\n",
    "    writer = csv.writer(file)\n",
    "    writer.writerows(users)\n",
    "\n",
    "with open(FILENAME, \"a\", newline =\"\") as file:\n",
    "    user = [\"Sam\", 31]\n",
    "    writer = csv.writer(file)\n",
    "    writer.writerow(user)\n",
    "\n",
    "with open(FILENAME, \"a\", newline =\"\") as file:\n",
    "    user = [\"Nike\", 31]\n",
    "    writer = csv.writer(file)\n",
    "    writer.writerow(user)"
   ]
  },
  {
   "cell_type": "code",
   "execution_count": 37,
   "metadata": {},
   "outputs": [],
   "source": [
    "import csv\n",
    "\n",
    "FILENAME = \"weathers.csv\"\n",
    "\n",
    "weathers = [\n",
    "    [\"MSK\", -10],\n",
    "    [\"Tomsk\", -25],\n",
    "    [\"Sochi\", +10],\n",
    "    [\"Orel\", -12],\n",
    "    [\"Omsk\", -35],\n",
    "    [\"Chita\", -30],\n",
    "]\n",
    "\n",
    "\n",
    "with open(FILENAME, \"w\", newline =\"\") as file:\n",
    "\n",
    "    writer = csv.writer(file)\n",
    "    writer.writerows(weathers)\n",
    "\n",
    "\n",
    "with open(FILENAME, \"a\", newline =\"\") as file:\n",
    "    weather = [\"Pskov\", -8]\n",
    "    writer = csv.writer(file)\n",
    "    writer.writerow(weather)\n",
    "\n"
   ]
  }
 ],
 "metadata": {
  "kernelspec": {
   "display_name": "Python 3",
   "language": "python",
   "name": "python3"
  },
  "language_info": {
   "codemirror_mode": {
    "name": "ipython",
    "version": 3
   },
   "file_extension": ".py",
   "mimetype": "text/x-python",
   "name": "python",
   "nbconvert_exporter": "python",
   "pygments_lexer": "ipython3",
   "version": "3.11.9"
  }
 },
 "nbformat": 4,
 "nbformat_minor": 2
}
